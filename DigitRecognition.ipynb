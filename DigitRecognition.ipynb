{
  "nbformat": 4,
  "nbformat_minor": 0,
  "metadata": {
    "colab": {
      "name": "DigitRecognition.ipynb",
      "version": "0.3.2",
      "provenance": [],
      "collapsed_sections": []
    },
    "kernelspec": {
      "name": "python3",
      "display_name": "Python 3"
    }
  },
  "cells": [
    {
      "metadata": {
        "id": "fDEYlKSV2qdd",
        "colab_type": "text"
      },
      "cell_type": "markdown",
      "source": [
        "## Load data"
      ]
    },
    {
      "metadata": {
        "id": "KXYVs60G2nrs",
        "colab_type": "code",
        "outputId": "bc627b03-8308-4cac-ec7c-44cc0706b41b",
        "colab": {
          "base_uri": "https://localhost:8080/",
          "height": 52
        }
      },
      "cell_type": "code",
      "source": [
        "import pandas as pn\n",
        "x_url ='https://raw.githubusercontent.com/swakkhar/MachineLearning/master/X.csv'\n",
        "y_url ='https://raw.githubusercontent.com/swakkhar/MachineLearning/master/Y.csv'\n",
        "X = pn.read_csv(x_url,header=None)\n",
        "y = pn.read_csv(y_url,header=None)\n",
        "\n",
        "\n",
        "\n",
        "import numpy as np\n",
        "X=np.asarray(X)\n",
        "y=np.asarray(y)\n",
        "\n",
        "y=y%10\n",
        "\n",
        "print(X.shape)\n",
        "print(y.shape)"
      ],
      "execution_count": 0,
      "outputs": [
        {
          "output_type": "stream",
          "text": [
            "(5000, 400)\n",
            "(5000, 1)\n"
          ],
          "name": "stdout"
        }
      ]
    },
    {
      "metadata": {
        "id": "P1kGjg123X1c",
        "colab_type": "text"
      },
      "cell_type": "markdown",
      "source": [
        "## visualize data"
      ]
    },
    {
      "metadata": {
        "id": "oKEU_yRa218C",
        "colab_type": "code",
        "outputId": "84da3deb-f1a4-4b65-b3cd-ebb8700c7c0f",
        "colab": {
          "base_uri": "https://localhost:8080/",
          "height": 369
        }
      },
      "cell_type": "code",
      "source": [
        "import matplotlib.pyplot as plt\n",
        "\n",
        "def digitShow(x):\n",
        "  plt.imshow(x);\n",
        "  plt.colorbar()\n",
        "  plt.show()\n",
        "\n",
        "roW_indeX=np.random.randint(0,5000)\n",
        "digitShow((np.reshape(X[roW_indeX,:],(20,20))).T)\n",
        "print(y[roW_indeX,0])"
      ],
      "execution_count": 0,
      "outputs": [
        {
          "output_type": "display_data",
          "data": {
            "image/png": "[encoded data removed]",
            "text/plain": [
              "<Figure size 576x396 with 2 Axes>"
            ]
          },
          "metadata": {
            "tags": []
          }
        },
        {
          "output_type": "stream",
          "text": [
            "3\n"
          ],
          "name": "stdout"
        }
      ]
    },
    {
      "metadata": {
        "id": "e7OhxMbx5Gbj",
        "colab_type": "text"
      },
      "cell_type": "markdown",
      "source": [
        "## let uS uSe keras"
      ]
    },
    {
      "metadata": {
        "id": "3aJmRC3A4lO6",
        "colab_type": "code",
        "outputId": "59122cc8-d24d-45ea-d160-5be46f260ece",
        "colab": {
          "base_uri": "https://localhost:8080/",
          "height": 3813
        }
      },
      "cell_type": "code",
      "source": [
        "from keras import models\n",
        "from keras import layers\n",
        "from keras import optimizers\n",
        "from keras.initializers import VarianceScaling\n",
        "\n",
        "from keras.utils import to_categorical\n",
        "\n",
        "model = models.Sequential()\n",
        "model.add(layers.Dense(25, activation='relu',input_shape=(400,),kernel_initializer = VarianceScaling()))\n",
        "model.add(layers.Dense(10,activation='softmax',kernel_initializer = VarianceScaling()))\n",
        "\n",
        "# we need to convert y to a vector\n",
        "# first change 10 to 0\n",
        "\n",
        "encoded_y = to_categorical(y)\n",
        "print(encoded_y.shape)\n",
        "print(encoded_y)\n",
        "\n",
        "model.compile(optimizer='rmsprop',loss='mean_squared_error',metrics=['accuracy'])\n",
        "model.fit(X,encoded_y,batch_size=5000, epochs=100,shuffle=True)\n",
        "\n",
        "#model.predict(X[1000:1010,:])\n",
        "model.summary()"
      ],
      "execution_count": 0,
      "outputs": [
        {
          "output_type": "stream",
          "text": [
            "(5000, 10)\n",
            "[[1. 0. 0. ... 0. 0. 0.]\n",
            " [1. 0. 0. ... 0. 0. 0.]\n",
            " [1. 0. 0. ... 0. 0. 0.]\n",
            " ...\n",
            " [0. 0. 0. ... 0. 0. 1.]\n",
            " [0. 0. 0. ... 0. 0. 1.]\n",
            " [0. 0. 0. ... 0. 0. 1.]]\n",
            "Epoch 1/100\n",
            "5000/5000 [==============================] - 1s 121us/step - loss: 0.0908 - acc: 0.0940\n",
            "Epoch 2/100\n",
            "5000/5000 [==============================] - 0s 16us/step - loss: 0.0888 - acc: 0.1860\n",
            "Epoch 3/100\n",
            "5000/5000 [==============================] - 0s 16us/step - loss: 0.0872 - acc: 0.2754\n",
            "Epoch 4/100\n",
            "5000/5000 [==============================] - 0s 17us/step - loss: 0.0854 - acc: 0.3454\n",
            "Epoch 5/100\n",
            "5000/5000 [==============================] - 0s 17us/step - loss: 0.0836 - acc: 0.3920\n",
            "Epoch 6/100\n",
            "5000/5000 [==============================] - 0s 15us/step - loss: 0.0817 - acc: 0.4302\n",
            "Epoch 7/100\n",
            "5000/5000 [==============================] - 0s 16us/step - loss: 0.0799 - acc: 0.4762\n",
            "Epoch 8/100\n",
            "5000/5000 [==============================] - 0s 16us/step - loss: 0.0782 - acc: 0.5080\n",
            "Epoch 9/100\n",
            "5000/5000 [==============================] - 0s 15us/step - loss: 0.0766 - acc: 0.5476\n",
            "Epoch 10/100\n",
            "5000/5000 [==============================] - 0s 15us/step - loss: 0.0751 - acc: 0.5708\n",
            "Epoch 11/100\n",
            "5000/5000 [==============================] - 0s 15us/step - loss: 0.0736 - acc: 0.5878\n",
            "Epoch 12/100\n",
            "5000/5000 [==============================] - 0s 16us/step - loss: 0.0722 - acc: 0.6094\n",
            "Epoch 13/100\n",
            "5000/5000 [==============================] - 0s 16us/step - loss: 0.0707 - acc: 0.6242\n",
            "Epoch 14/100\n",
            "5000/5000 [==============================] - 0s 17us/step - loss: 0.0694 - acc: 0.6356\n",
            "Epoch 15/100\n",
            "5000/5000 [==============================] - 0s 15us/step - loss: 0.0680 - acc: 0.6494\n",
            "Epoch 16/100\n",
            "5000/5000 [==============================] - 0s 16us/step - loss: 0.0667 - acc: 0.6586\n",
            "Epoch 17/100\n",
            "5000/5000 [==============================] - 0s 15us/step - loss: 0.0653 - acc: 0.6682\n",
            "Epoch 18/100\n",
            "5000/5000 [==============================] - 0s 16us/step - loss: 0.0640 - acc: 0.6792\n",
            "Epoch 19/100\n",
            "5000/5000 [==============================] - 0s 16us/step - loss: 0.0628 - acc: 0.6870\n",
            "Epoch 20/100\n",
            "5000/5000 [==============================] - 0s 16us/step - loss: 0.0615 - acc: 0.6950\n",
            "Epoch 21/100\n",
            "5000/5000 [==============================] - 0s 17us/step - loss: 0.0603 - acc: 0.7054\n",
            "Epoch 22/100\n",
            "5000/5000 [==============================] - 0s 15us/step - loss: 0.0591 - acc: 0.7154\n",
            "Epoch 23/100\n",
            "5000/5000 [==============================] - 0s 13us/step - loss: 0.0580 - acc: 0.7218\n",
            "Epoch 24/100\n",
            "5000/5000 [==============================] - 0s 14us/step - loss: 0.0568 - acc: 0.7296\n",
            "Epoch 25/100\n",
            "5000/5000 [==============================] - 0s 14us/step - loss: 0.0557 - acc: 0.7376\n",
            "Epoch 26/100\n",
            "5000/5000 [==============================] - 0s 14us/step - loss: 0.0545 - acc: 0.7446\n",
            "Epoch 27/100\n",
            "5000/5000 [==============================] - 0s 15us/step - loss: 0.0534 - acc: 0.7528\n",
            "Epoch 28/100\n",
            "5000/5000 [==============================] - 0s 16us/step - loss: 0.0524 - acc: 0.7602\n",
            "Epoch 29/100\n",
            "5000/5000 [==============================] - 0s 14us/step - loss: 0.0513 - acc: 0.7670\n",
            "Epoch 30/100\n",
            "5000/5000 [==============================] - 0s 14us/step - loss: 0.0503 - acc: 0.7720\n",
            "Epoch 31/100\n",
            "5000/5000 [==============================] - 0s 15us/step - loss: 0.0492 - acc: 0.7788\n",
            "Epoch 32/100\n",
            "5000/5000 [==============================] - 0s 15us/step - loss: 0.0482 - acc: 0.7854\n",
            "Epoch 33/100\n",
            "5000/5000 [==============================] - 0s 14us/step - loss: 0.0472 - acc: 0.7916\n",
            "Epoch 34/100\n",
            "5000/5000 [==============================] - 0s 13us/step - loss: 0.0462 - acc: 0.7984\n",
            "Epoch 35/100\n",
            "5000/5000 [==============================] - 0s 13us/step - loss: 0.0453 - acc: 0.8032\n",
            "Epoch 36/100\n",
            "5000/5000 [==============================] - 0s 12us/step - loss: 0.0444 - acc: 0.8106\n",
            "Epoch 37/100\n",
            "5000/5000 [==============================] - 0s 13us/step - loss: 0.0434 - acc: 0.8152\n",
            "Epoch 38/100\n",
            "5000/5000 [==============================] - 0s 13us/step - loss: 0.0426 - acc: 0.8218\n",
            "Epoch 39/100\n",
            "5000/5000 [==============================] - 0s 12us/step - loss: 0.0417 - acc: 0.8248\n",
            "Epoch 40/100\n",
            "5000/5000 [==============================] - 0s 12us/step - loss: 0.0409 - acc: 0.8296\n",
            "Epoch 41/100\n",
            "5000/5000 [==============================] - 0s 14us/step - loss: 0.0400 - acc: 0.8312\n",
            "Epoch 42/100\n",
            "5000/5000 [==============================] - 0s 12us/step - loss: 0.0392 - acc: 0.8368\n",
            "Epoch 43/100\n",
            "5000/5000 [==============================] - 0s 12us/step - loss: 0.0385 - acc: 0.8374\n",
            "Epoch 44/100\n",
            "5000/5000 [==============================] - 0s 12us/step - loss: 0.0377 - acc: 0.8428\n",
            "Epoch 45/100\n",
            "5000/5000 [==============================] - 0s 12us/step - loss: 0.0370 - acc: 0.8434\n",
            "Epoch 46/100\n",
            "5000/5000 [==============================] - 0s 13us/step - loss: 0.0363 - acc: 0.8472\n",
            "Epoch 47/100\n",
            "5000/5000 [==============================] - 0s 12us/step - loss: 0.0356 - acc: 0.8484\n",
            "Epoch 48/100\n",
            "5000/5000 [==============================] - 0s 13us/step - loss: 0.0349 - acc: 0.8526\n",
            "Epoch 49/100\n",
            "5000/5000 [==============================] - 0s 13us/step - loss: 0.0342 - acc: 0.8510\n",
            "Epoch 50/100\n",
            "5000/5000 [==============================] - 0s 12us/step - loss: 0.0336 - acc: 0.8546\n",
            "Epoch 51/100\n",
            "5000/5000 [==============================] - 0s 12us/step - loss: 0.0330 - acc: 0.8552\n",
            "Epoch 52/100\n",
            "5000/5000 [==============================] - 0s 13us/step - loss: 0.0324 - acc: 0.8576\n",
            "Epoch 53/100\n",
            "5000/5000 [==============================] - 0s 14us/step - loss: 0.0319 - acc: 0.8580\n",
            "Epoch 54/100\n",
            "5000/5000 [==============================] - 0s 13us/step - loss: 0.0313 - acc: 0.8612\n",
            "Epoch 55/100\n",
            "5000/5000 [==============================] - 0s 14us/step - loss: 0.0308 - acc: 0.8604\n",
            "Epoch 56/100\n",
            "5000/5000 [==============================] - 0s 14us/step - loss: 0.0303 - acc: 0.8640\n",
            "Epoch 57/100\n",
            "5000/5000 [==============================] - 0s 14us/step - loss: 0.0298 - acc: 0.8628\n",
            "Epoch 58/100\n",
            "5000/5000 [==============================] - 0s 14us/step - loss: 0.0293 - acc: 0.8684\n",
            "Epoch 59/100\n",
            "5000/5000 [==============================] - 0s 15us/step - loss: 0.0288 - acc: 0.8654\n",
            "Epoch 60/100\n",
            "5000/5000 [==============================] - 0s 14us/step - loss: 0.0283 - acc: 0.8712\n",
            "Epoch 61/100\n",
            "5000/5000 [==============================] - 0s 15us/step - loss: 0.0279 - acc: 0.8684\n",
            "Epoch 62/100\n",
            "5000/5000 [==============================] - 0s 14us/step - loss: 0.0275 - acc: 0.8750\n",
            "Epoch 63/100\n",
            "5000/5000 [==============================] - 0s 14us/step - loss: 0.0271 - acc: 0.8712\n",
            "Epoch 64/100\n",
            "5000/5000 [==============================] - 0s 14us/step - loss: 0.0267 - acc: 0.8774\n",
            "Epoch 65/100\n",
            "5000/5000 [==============================] - 0s 14us/step - loss: 0.0263 - acc: 0.8748\n",
            "Epoch 66/100\n",
            "5000/5000 [==============================] - 0s 15us/step - loss: 0.0259 - acc: 0.8796\n",
            "Epoch 67/100\n",
            "5000/5000 [==============================] - 0s 14us/step - loss: 0.0255 - acc: 0.8760\n",
            "Epoch 68/100\n",
            "5000/5000 [==============================] - 0s 13us/step - loss: 0.0251 - acc: 0.8820\n",
            "Epoch 69/100\n",
            "5000/5000 [==============================] - 0s 14us/step - loss: 0.0248 - acc: 0.8784\n",
            "Epoch 70/100\n",
            "5000/5000 [==============================] - 0s 14us/step - loss: 0.0245 - acc: 0.8840\n",
            "Epoch 71/100\n",
            "5000/5000 [==============================] - 0s 13us/step - loss: 0.0241 - acc: 0.8814\n",
            "Epoch 72/100\n",
            "5000/5000 [==============================] - 0s 14us/step - loss: 0.0238 - acc: 0.8870\n",
            "Epoch 73/100\n",
            "5000/5000 [==============================] - 0s 15us/step - loss: 0.0235 - acc: 0.8842\n",
            "Epoch 74/100\n",
            "5000/5000 [==============================] - 0s 13us/step - loss: 0.0232 - acc: 0.8880\n",
            "Epoch 75/100\n",
            "5000/5000 [==============================] - 0s 15us/step - loss: 0.0229 - acc: 0.8874\n",
            "Epoch 76/100\n",
            "5000/5000 [==============================] - 0s 14us/step - loss: 0.0226 - acc: 0.8896\n",
            "Epoch 77/100\n",
            "5000/5000 [==============================] - 0s 14us/step - loss: 0.0223 - acc: 0.8894\n",
            "Epoch 78/100\n",
            "5000/5000 [==============================] - 0s 14us/step - loss: 0.0221 - acc: 0.8914\n",
            "Epoch 79/100\n",
            "5000/5000 [==============================] - 0s 13us/step - loss: 0.0218 - acc: 0.8914\n",
            "Epoch 80/100\n",
            "5000/5000 [==============================] - 0s 14us/step - loss: 0.0215 - acc: 0.8928\n",
            "Epoch 81/100\n",
            "5000/5000 [==============================] - 0s 15us/step - loss: 0.0213 - acc: 0.8940\n",
            "Epoch 82/100\n",
            "5000/5000 [==============================] - 0s 13us/step - loss: 0.0210 - acc: 0.8946\n",
            "Epoch 83/100\n",
            "5000/5000 [==============================] - 0s 14us/step - loss: 0.0208 - acc: 0.8954\n",
            "Epoch 84/100\n",
            "5000/5000 [==============================] - 0s 15us/step - loss: 0.0205 - acc: 0.8962\n",
            "Epoch 85/100\n",
            "5000/5000 [==============================] - 0s 14us/step - loss: 0.0203 - acc: 0.8972\n",
            "Epoch 86/100\n",
            "5000/5000 [==============================] - 0s 14us/step - loss: 0.0201 - acc: 0.8970\n",
            "Epoch 87/100\n",
            "5000/5000 [==============================] - 0s 13us/step - loss: 0.0199 - acc: 0.8988\n",
            "Epoch 88/100\n",
            "5000/5000 [==============================] - 0s 13us/step - loss: 0.0196 - acc: 0.8996\n",
            "Epoch 89/100\n",
            "5000/5000 [==============================] - 0s 13us/step - loss: 0.0194 - acc: 0.8998\n",
            "Epoch 90/100\n",
            "5000/5000 [==============================] - 0s 12us/step - loss: 0.0192 - acc: 0.9026\n",
            "Epoch 91/100\n",
            "5000/5000 [==============================] - 0s 12us/step - loss: 0.0190 - acc: 0.9000\n",
            "Epoch 92/100\n",
            "5000/5000 [==============================] - 0s 14us/step - loss: 0.0189 - acc: 0.9034\n",
            "Epoch 93/100\n",
            "5000/5000 [==============================] - 0s 13us/step - loss: 0.0187 - acc: 0.9016\n",
            "Epoch 94/100\n",
            "5000/5000 [==============================] - 0s 13us/step - loss: 0.0185 - acc: 0.9044\n",
            "Epoch 95/100\n",
            "5000/5000 [==============================] - 0s 13us/step - loss: 0.0183 - acc: 0.9040\n",
            "Epoch 96/100\n",
            "5000/5000 [==============================] - 0s 14us/step - loss: 0.0181 - acc: 0.9060\n",
            "Epoch 97/100\n",
            "5000/5000 [==============================] - 0s 12us/step - loss: 0.0179 - acc: 0.9058\n",
            "Epoch 98/100\n",
            "5000/5000 [==============================] - 0s 13us/step - loss: 0.0177 - acc: 0.9062\n",
            "Epoch 99/100\n",
            "5000/5000 [==============================] - 0s 13us/step - loss: 0.0175 - acc: 0.9064\n",
            "Epoch 100/100\n",
            "5000/5000 [==============================] - 0s 13us/step - loss: 0.0174 - acc: 0.9080\n",
            "_________________________________________________________________\n",
            "Layer (type)                 Output Shape              Param #   \n",
            "=================================================================\n",
            "dense_28 (Dense)             (None, 25)                10025     \n",
            "_________________________________________________________________\n",
            "dense_29 (Dense)             (None, 10)                260       \n",
            "=================================================================\n",
            "Total params: 10,285\n",
            "Trainable params: 10,285\n",
            "Non-trainable params: 0\n",
            "_________________________________________________________________\n"
          ],
          "name": "stdout"
        }
      ]
    },
    {
      "metadata": {
        "id": "e7nwaWhu5eRz",
        "colab_type": "code",
        "outputId": "055172b3-357a-49af-9718-bb1f6e3456f4",
        "colab": {
          "base_uri": "https://localhost:8080/",
          "height": 403
        }
      },
      "cell_type": "code",
      "source": [
        "from numpy import argmax\n",
        "roW_indeX=np.random.randint(0,5000)\n",
        "digitShow((np.reshape(X[roW_indeX,:],(20,20))).T)\n",
        "print(\"ACTUAL LABEL=\",y[roW_indeX,0])\n",
        "print(\"Row Index=\",roW_indeX)\n",
        "print(\"Predicted Label=\",argmax(model.predict(X[roW_indeX:roW_indeX+1,:])))\n"
      ],
      "execution_count": 0,
      "outputs": [
        {
          "output_type": "display_data",
          "data": {
            "image/png": "[encoded data removed]",
            "text/plain": [
              "<Figure size 576x396 with 2 Axes>"
            ]
          },
          "metadata": {
            "tags": []
          }
        },
        {
          "output_type": "stream",
          "text": [
            "ACTUAL LABEL= 8\n",
            "Row Index= 4281\n",
            "Predicted Label= 8\n"
          ],
          "name": "stdout"
        }
      ]
    },
    {
      "metadata": {
        "id": "zmMoKkLA9apy",
        "colab_type": "code",
        "colab": {}
      },
      "cell_type": "code",
      "source": [
        "    from keras.utils import to_categorical"
      ],
      "execution_count": 0,
      "outputs": []
    },
    {
      "metadata": {
        "id": "1wJ-9ltRFtWC",
        "colab_type": "code",
        "outputId": "7ee2f691-f265-4f3a-9839-26ca4778bfd1",
        "colab": {
          "base_uri": "https://localhost:8080/",
          "height": 156
        }
      },
      "cell_type": "code",
      "source": [
        "to_categorical([0, 1, 2, 1,0,0,0,2])"
      ],
      "execution_count": 0,
      "outputs": [
        {
          "output_type": "execute_result",
          "data": {
            "text/plain": [
              "array([[1., 0., 0.],\n",
              "       [0., 1., 0.],\n",
              "       [0., 0., 1.],\n",
              "       [0., 1., 0.],\n",
              "       [1., 0., 0.],\n",
              "       [1., 0., 0.],\n",
              "       [1., 0., 0.],\n",
              "       [0., 0., 1.]], dtype=float32)"
            ]
          },
          "metadata": {
            "tags": []
          },
          "execution_count": 22
        }
      ]
    },
    {
      "metadata": {
        "id": "5tKwkb-mF1Le",
        "colab_type": "code",
        "colab": {}
      },
      "cell_type": "code",
      "source": [
        ""
      ],
      "execution_count": 0,
      "outputs": []
    }
  ]
}