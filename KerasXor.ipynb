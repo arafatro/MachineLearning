{
  "nbformat": 4,
  "nbformat_minor": 0,
  "metadata": {
    "colab": {
      "name": "KerasXor.ipynb",
      "version": "0.3.2",
      "provenance": [],
      "collapsed_sections": []
    },
    "kernelspec": {
      "name": "python3",
      "display_name": "Python 3"
    }
  },
  "cells": [
    {
      "metadata": {
        "id": "LM62wFdRliew",
        "colab_type": "text"
      },
      "cell_type": "markdown",
      "source": [
        "## LETS USE KERAS "
      ]
    },
    {
      "metadata": {
        "id": "Tl7zH5rCl0He",
        "colab_type": "text"
      },
      "cell_type": "markdown",
      "source": [
        "first create the dataset as before"
      ]
    },
    {
      "metadata": {
        "id": "2H5HI-WvlhCO",
        "colab_type": "code",
        "colab": {}
      },
      "cell_type": "code",
      "source": [
        "import numpy as np\n",
        "X = np.asarray([[0,0],[0,1],[1,0],[1,1]])\n",
        "y = np.asarray([1,0,0,1])"
      ],
      "execution_count": 0,
      "outputs": []
    },
    {
      "metadata": {
        "id": "Pi8Ngqoul7Sm",
        "colab_type": "text"
      },
      "cell_type": "markdown",
      "source": [
        "## Now its time to load keras"
      ]
    },
    {
      "metadata": {
        "id": "WALlf6i5loI3",
        "colab_type": "code",
        "outputId": "c1f06097-a5b7-4c7f-c3a7-9a66bdcb8b1f",
        "colab": {
          "base_uri": "https://localhost:8080/",
          "height": 87
        }
      },
      "cell_type": "code",
      "source": [
        "from keras import models\n",
        "from keras import layers\n",
        "from keras import optimizers\n",
        "from keras.initializers import VarianceScaling\n",
        "\n",
        "model = models.Sequential()\n",
        "model.add(layers.Dense(2, activation='sigmoid',input_shape=(2,),kernel_initializer = VarianceScaling()))\n",
        "model.add(layers.Dense(1,activation='sigmoid',kernel_initializer = VarianceScaling()))\n",
        "\n",
        "model.compile(optimizer='rmsprop',loss='mean_squared_error',metrics=['accuracy'])\n",
        "model.fit(X,y,batch_size=4, epochs=10000,verbose=0)\n",
        "\n",
        "model.predict(X)\n"
      ],
      "execution_count": 0,
      "outputs": [
        {
          "output_type": "execute_result",
          "data": {
            "text/plain": [
              "array([[0.99272126],\n",
              "       [0.00626244],\n",
              "       [0.0079363 ],\n",
              "       [0.99299896]], dtype=float32)"
            ]
          },
          "metadata": {
            "tags": []
          },
          "execution_count": 3
        }
      ]
    },
    {
      "metadata": {
        "id": "xU3OVIbBm4yM",
        "colab_type": "code",
        "outputId": "418de56e-1e31-4295-beef-756a8518bbe2",
        "colab": {
          "base_uri": "https://localhost:8080/",
          "height": 208
        }
      },
      "cell_type": "code",
      "source": [
        "model.summary()"
      ],
      "execution_count": 0,
      "outputs": [
        {
          "output_type": "stream",
          "text": [
            "_________________________________________________________________\n",
            "Layer (type)                 Output Shape              Param #   \n",
            "=================================================================\n",
            "dense_3 (Dense)              (None, 2)                 6         \n",
            "_________________________________________________________________\n",
            "dense_4 (Dense)              (None, 1)                 3         \n",
            "=================================================================\n",
            "Total params: 9\n",
            "Trainable params: 9\n",
            "Non-trainable params: 0\n",
            "_________________________________________________________________\n"
          ],
          "name": "stdout"
        }
      ]
    },
    {
      "metadata": {
        "id": "RJki6zAe8NSF",
        "colab_type": "text"
      },
      "cell_type": "markdown",
      "source": [
        "\n"
      ]
    }
  ]
}