{
  "nbformat": 4,
  "nbformat_minor": 0,
  "metadata": {
    "colab": {
      "name": "Feature eXtraction.ipynb",
      "version": "0.3.2",
      "provenance": [],
      "collapsed_sections": []
    },
    "kernelspec": {
      "name": "python3",
      "display_name": "Python 3"
    }
  },
  "cells": [
    {
      "metadata": {
        "id": "kMYBTk7j4yHE",
        "colab_type": "code",
        "outputId": "7bc0f36b-a564-48c6-c8d6-4f1d48326be8",
        "colab": {
          "base_uri": "https://localhost:8080/",
          "height": 139
        }
      },
      "cell_type": "code",
      "source": [
        "from keras.applications import VGG16\n",
        "conv_base = VGG16(weights='imagenet',include_top=False,input_shape=(150, 150, 3))"
      ],
      "execution_count": 0,
      "outputs": [
        {
          "output_type": "stream",
          "text": [
            "Using TensorFlow backend.\n"
          ],
          "name": "stderr"
        },
        {
          "output_type": "stream",
          "text": [
            "WARNING:tensorflow:From /usr/local/lib/python3.6/dist-packages/tensorflow/python/framework/op_def_library.py:263: colocate_with (from tensorflow.python.framework.ops) is deprecated and will be removed in a future version.\n",
            "Instructions for updating:\n",
            "Colocations handled automatically by placer.\n",
            "Downloading data from https://github.com/fchollet/deep-learning-models/releases/download/v0.1/vgg16_weights_tf_dim_ordering_tf_kernels_notop.h5\n",
            "58892288/58889256 [==============================] - 1s 0us/step\n"
          ],
          "name": "stdout"
        }
      ]
    },
    {
      "metadata": {
        "id": "cSzXWyG0410P",
        "colab_type": "code",
        "outputId": "cb01894a-4a0a-47cf-f4b5-e33d468903c4",
        "colab": {
          "base_uri": "https://localhost:8080/",
          "height": 782
        }
      },
      "cell_type": "code",
      "source": [
        "conv_base.summary()"
      ],
      "execution_count": 0,
      "outputs": [
        {
          "output_type": "stream",
          "text": [
            "_________________________________________________________________\n",
            "Layer (type)                 Output Shape              Param #   \n",
            "=================================================================\n",
            "input_1 (InputLayer)         (None, 150, 150, 3)       0         \n",
            "_________________________________________________________________\n",
            "block1_conv1 (Conv2D)        (None, 150, 150, 64)      1792      \n",
            "_________________________________________________________________\n",
            "block1_conv2 (Conv2D)        (None, 150, 150, 64)      36928     \n",
            "_________________________________________________________________\n",
            "block1_pool (MaxPooling2D)   (None, 75, 75, 64)        0         \n",
            "_________________________________________________________________\n",
            "block2_conv1 (Conv2D)        (None, 75, 75, 128)       73856     \n",
            "_________________________________________________________________\n",
            "block2_conv2 (Conv2D)        (None, 75, 75, 128)       147584    \n",
            "_________________________________________________________________\n",
            "block2_pool (MaxPooling2D)   (None, 37, 37, 128)       0         \n",
            "_________________________________________________________________\n",
            "block3_conv1 (Conv2D)        (None, 37, 37, 256)       295168    \n",
            "_________________________________________________________________\n",
            "block3_conv2 (Conv2D)        (None, 37, 37, 256)       590080    \n",
            "_________________________________________________________________\n",
            "block3_conv3 (Conv2D)        (None, 37, 37, 256)       590080    \n",
            "_________________________________________________________________\n",
            "block3_pool (MaxPooling2D)   (None, 18, 18, 256)       0         \n",
            "_________________________________________________________________\n",
            "block4_conv1 (Conv2D)        (None, 18, 18, 512)       1180160   \n",
            "_________________________________________________________________\n",
            "block4_conv2 (Conv2D)        (None, 18, 18, 512)       2359808   \n",
            "_________________________________________________________________\n",
            "block4_conv3 (Conv2D)        (None, 18, 18, 512)       2359808   \n",
            "_________________________________________________________________\n",
            "block4_pool (MaxPooling2D)   (None, 9, 9, 512)         0         \n",
            "_________________________________________________________________\n",
            "block5_conv1 (Conv2D)        (None, 9, 9, 512)         2359808   \n",
            "_________________________________________________________________\n",
            "block5_conv2 (Conv2D)        (None, 9, 9, 512)         2359808   \n",
            "_________________________________________________________________\n",
            "block5_conv3 (Conv2D)        (None, 9, 9, 512)         2359808   \n",
            "_________________________________________________________________\n",
            "block5_pool (MaxPooling2D)   (None, 4, 4, 512)         0         \n",
            "=================================================================\n",
            "Total params: 14,714,688\n",
            "Trainable params: 14,714,688\n",
            "Non-trainable params: 0\n",
            "_________________________________________________________________\n"
          ],
          "name": "stdout"
        }
      ]
    },
    {
      "metadata": {
        "id": "Cgil3sZY5grE",
        "colab_type": "text"
      },
      "cell_type": "markdown",
      "source": [
        "# GET DATA"
      ]
    },
    {
      "metadata": {
        "id": "cZJ3zwbZ48UM",
        "colab_type": "code",
        "outputId": "cf0a88aa-4d9d-4420-e80a-19732cb8e114",
        "colab": {
          "base_uri": "https://localhost:8080/",
          "height": 204
        }
      },
      "cell_type": "code",
      "source": [
        "!wget --no-check-certificate \\\n",
        "    https://storage.googleapis.com/mledu-datasets/cats_and_dogs_filtered.zip \\\n",
        "    -O /tmp/cats_and_dogs_filtered.zip"
      ],
      "execution_count": 0,
      "outputs": [
        {
          "output_type": "stream",
          "text": [
            "--2019-03-19 02:54:04--  https://storage.googleapis.com/mledu-datasets/cats_and_dogs_filtered.zip\n",
            "Resolving storage.googleapis.com (storage.googleapis.com)... 74.125.141.128, 2607:f8b0:400c:c06::80\n",
            "Connecting to storage.googleapis.com (storage.googleapis.com)|74.125.141.128|:443... connected.\n",
            "HTTP request sent, awaiting response... 200 OK\n",
            "Length: 68606236 (65M) [application/zip]\n",
            "Saving to: ‘/tmp/cats_and_dogs_filtered.zip’\n",
            "\n",
            "/tmp/cats_and_dogs_ 100%[===================>]  65.43M  88.2MB/s    in 0.7s    \n",
            "\n",
            "2019-03-19 02:54:05 (88.2 MB/s) - ‘/tmp/cats_and_dogs_filtered.zip’ saved [68606236/68606236]\n",
            "\n"
          ],
          "name": "stdout"
        }
      ]
    },
    {
      "metadata": {
        "id": "QEANEAxV5jIF",
        "colab_type": "code",
        "colab": {}
      },
      "cell_type": "code",
      "source": [
        "import os\n",
        "import zipfile\n",
        "\n",
        "local_zip = '/tmp/cats_and_dogs_filtered.zip'\n",
        "zip_ref = zipfile.ZipFile(local_zip, 'r')\n",
        "zip_ref.extractall('/tmp')\n",
        "zip_ref.close()"
      ],
      "execution_count": 0,
      "outputs": []
    },
    {
      "metadata": {
        "id": "KE5IP2_45pUB",
        "colab_type": "code",
        "colab": {}
      },
      "cell_type": "code",
      "source": [
        "base_dir = '/tmp/cats_and_dogs_filtered'\n",
        "train_dir = os.path.join(base_dir, 'train')\n",
        "validation_dir = os.path.join(base_dir, 'validation')\n",
        "\n",
        "# Directory with our training cat pictures\n",
        "train_cats_dir = os.path.join(train_dir, 'cats')\n",
        "\n",
        "# Directory with our training dog pictures\n",
        "train_dogs_dir = os.path.join(train_dir, 'dogs')\n",
        "\n",
        "# Directory with our validation cat pictures\n",
        "validation_cats_dir = os.path.join(validation_dir, 'cats')\n",
        "\n",
        "# Directory with our validation dog pictures\n",
        "validation_dogs_dir = os.path.join(validation_dir, 'dogs')"
      ],
      "execution_count": 0,
      "outputs": []
    },
    {
      "metadata": {
        "id": "xPlGW52w5son",
        "colab_type": "code",
        "outputId": "c8e3d6f5-0bac-4844-98a1-18cfa913aed0",
        "colab": {
          "base_uri": "https://localhost:8080/",
          "height": 51
        }
      },
      "cell_type": "code",
      "source": [
        "train_cat_fnames = os.listdir(train_cats_dir)\n",
        "print (train_cat_fnames[:10])\n",
        "\n",
        "train_dog_fnames = os.listdir(train_dogs_dir)\n",
        "train_dog_fnames.sort()\n",
        "print(train_dog_fnames[:10])"
      ],
      "execution_count": 0,
      "outputs": [
        {
          "output_type": "stream",
          "text": [
            "['cat.67.jpg', 'cat.182.jpg', 'cat.896.jpg', 'cat.158.jpg', 'cat.184.jpg', 'cat.344.jpg', 'cat.540.jpg', 'cat.268.jpg', 'cat.501.jpg', 'cat.517.jpg']\n",
            "['dog.0.jpg', 'dog.1.jpg', 'dog.10.jpg', 'dog.100.jpg', 'dog.101.jpg', 'dog.102.jpg', 'dog.103.jpg', 'dog.104.jpg', 'dog.105.jpg', 'dog.106.jpg']\n"
          ],
          "name": "stdout"
        }
      ]
    },
    {
      "metadata": {
        "id": "fMXyDDAT5v1L",
        "colab_type": "code",
        "colab": {}
      },
      "cell_type": "code",
      "source": [
        "import numpy as np\n",
        "from keras.preprocessing.image import ImageDataGenerator\n",
        "datagen = ImageDataGenerator(rescale=1./255)\n",
        "batch_size = 20\n",
        "def extract_features(directory, sample_count):\n",
        "  features = np.zeros(shape=(sample_count, 4, 4, 512))\n",
        "  labels = np.zeros(shape=(sample_count))\n",
        "  generator = datagen.flow_from_directory(directory,target_size=(150, 150),batch_size=batch_size,class_mode='binary')\n",
        "  i = 0\n",
        "  for inputs_batch, labels_batch in generator:\n",
        "    features_batch = conv_base.predict(inputs_batch)\n",
        "    features[i * batch_size : (i + 1) * batch_size] = features_batch\n",
        "    labels[i * batch_size : (i + 1) * batch_size] = labels_batch\n",
        "    i += 1\n",
        "    if i * batch_size >= sample_count:\n",
        "      break\n",
        "  return features, labels"
      ],
      "execution_count": 0,
      "outputs": []
    },
    {
      "metadata": {
        "id": "hitj8QpO6LrJ",
        "colab_type": "code",
        "outputId": "cd31f49c-56a8-418c-d570-71a9b14b2dc0",
        "colab": {
          "base_uri": "https://localhost:8080/",
          "height": 51
        }
      },
      "cell_type": "code",
      "source": [
        "train_features, train_labels = extract_features(train_dir, 2000)\n",
        "validation_features, validation_labels = extract_features(validation_dir, 1000)"
      ],
      "execution_count": 0,
      "outputs": [
        {
          "output_type": "stream",
          "text": [
            "Found 2000 images belonging to 2 classes.\n",
            "Found 1000 images belonging to 2 classes.\n"
          ],
          "name": "stdout"
        }
      ]
    },
    {
      "metadata": {
        "id": "Xn5nBq9D6a4j",
        "colab_type": "code",
        "colab": {}
      },
      "cell_type": "code",
      "source": [
        "train_features = np.reshape(train_features, (2000, 4 * 4 * 512))\n",
        "validation_features = np.reshape(validation_features, (1000, 4 * 4 * 512))"
      ],
      "execution_count": 0,
      "outputs": []
    },
    {
      "metadata": {
        "id": "V-_YrEsf6uSC",
        "colab_type": "code",
        "outputId": "03d7c4ef-c6c8-4f10-d420-42f9d61d3e39",
        "colab": {
          "base_uri": "https://localhost:8080/",
          "height": 1176
        }
      },
      "cell_type": "code",
      "source": [
        "from keras import models\n",
        "from keras import layers\n",
        "from keras import optimizers\n",
        "model = models.Sequential()\n",
        "model.add(layers.Dense(256, activation='relu', input_dim=4 * 4 * 512))\n",
        "model.add(layers.Dropout(0.5))\n",
        "model.add(layers.Dense(1, activation='sigmoid'))\n",
        "model.compile(optimizer=optimizers.RMSprop(lr=2e-5),loss='binary_crossentropy',metrics=['acc'])\n",
        "history = model.fit(train_features, train_labels,epochs=30,batch_size=20,validation_data=(validation_features, validation_labels))"
      ],
      "execution_count": 0,
      "outputs": [
        {
          "output_type": "stream",
          "text": [
            "WARNING:tensorflow:From /usr/local/lib/python3.6/dist-packages/keras/backend/tensorflow_backend.py:3445: calling dropout (from tensorflow.python.ops.nn_ops) with keep_prob is deprecated and will be removed in a future version.\n",
            "Instructions for updating:\n",
            "Please use `rate` instead of `keep_prob`. Rate should be set to `rate = 1 - keep_prob`.\n",
            "WARNING:tensorflow:From /usr/local/lib/python3.6/dist-packages/tensorflow/python/ops/math_ops.py:3066: to_int32 (from tensorflow.python.ops.math_ops) is deprecated and will be removed in a future version.\n",
            "Instructions for updating:\n",
            "Use tf.cast instead.\n",
            "Train on 2000 samples, validate on 1000 samples\n",
            "Epoch 1/30\n",
            "2000/2000 [==============================] - 6s 3ms/step - loss: 0.5644 - acc: 0.7110 - val_loss: 0.4201 - val_acc: 0.8250\n",
            "Epoch 2/30\n",
            "2000/2000 [==============================] - 5s 3ms/step - loss: 0.4249 - acc: 0.8140 - val_loss: 0.3591 - val_acc: 0.8570\n",
            "Epoch 3/30\n",
            "2000/2000 [==============================] - 5s 3ms/step - loss: 0.3502 - acc: 0.8470 - val_loss: 0.3242 - val_acc: 0.8660\n",
            "Epoch 4/30\n",
            "2000/2000 [==============================] - 5s 3ms/step - loss: 0.2977 - acc: 0.8760 - val_loss: 0.3044 - val_acc: 0.8680\n",
            "Epoch 5/30\n",
            "2000/2000 [==============================] - 5s 3ms/step - loss: 0.2750 - acc: 0.8925 - val_loss: 0.3017 - val_acc: 0.8760\n",
            "Epoch 6/30\n",
            "2000/2000 [==============================] - 5s 3ms/step - loss: 0.2533 - acc: 0.9035 - val_loss: 0.2849 - val_acc: 0.8840\n",
            "Epoch 7/30\n",
            "2000/2000 [==============================] - 5s 3ms/step - loss: 0.2283 - acc: 0.9050 - val_loss: 0.2822 - val_acc: 0.8760\n",
            "Epoch 8/30\n",
            "2000/2000 [==============================] - 5s 3ms/step - loss: 0.2246 - acc: 0.9120 - val_loss: 0.2732 - val_acc: 0.8870\n",
            "Epoch 9/30\n",
            "2000/2000 [==============================] - 5s 3ms/step - loss: 0.2091 - acc: 0.9210 - val_loss: 0.2684 - val_acc: 0.8890\n",
            "Epoch 10/30\n",
            "2000/2000 [==============================] - 5s 3ms/step - loss: 0.1987 - acc: 0.9260 - val_loss: 0.2699 - val_acc: 0.8830\n",
            "Epoch 11/30\n",
            "2000/2000 [==============================] - 5s 2ms/step - loss: 0.1849 - acc: 0.9325 - val_loss: 0.2639 - val_acc: 0.8890\n",
            "Epoch 12/30\n",
            "2000/2000 [==============================] - 5s 3ms/step - loss: 0.1813 - acc: 0.9280 - val_loss: 0.2627 - val_acc: 0.8850\n",
            "Epoch 13/30\n",
            "2000/2000 [==============================] - 5s 3ms/step - loss: 0.1711 - acc: 0.9375 - val_loss: 0.2645 - val_acc: 0.8820\n",
            "Epoch 14/30\n",
            "2000/2000 [==============================] - 5s 3ms/step - loss: 0.1597 - acc: 0.9470 - val_loss: 0.2583 - val_acc: 0.8880\n",
            "Epoch 15/30\n",
            "2000/2000 [==============================] - 5s 3ms/step - loss: 0.1510 - acc: 0.9510 - val_loss: 0.2580 - val_acc: 0.8920\n",
            "Epoch 16/30\n",
            "2000/2000 [==============================] - 5s 3ms/step - loss: 0.1474 - acc: 0.9480 - val_loss: 0.2616 - val_acc: 0.8840\n",
            "Epoch 17/30\n",
            "2000/2000 [==============================] - 5s 3ms/step - loss: 0.1377 - acc: 0.9500 - val_loss: 0.2574 - val_acc: 0.8860\n",
            "Epoch 18/30\n",
            "2000/2000 [==============================] - 5s 3ms/step - loss: 0.1265 - acc: 0.9550 - val_loss: 0.2574 - val_acc: 0.8890\n",
            "Epoch 19/30\n",
            "2000/2000 [==============================] - 5s 3ms/step - loss: 0.1336 - acc: 0.9550 - val_loss: 0.2573 - val_acc: 0.8890\n",
            "Epoch 20/30\n",
            "2000/2000 [==============================] - 5s 3ms/step - loss: 0.1219 - acc: 0.9595 - val_loss: 0.2624 - val_acc: 0.8860\n",
            "Epoch 21/30\n",
            "2000/2000 [==============================] - 5s 3ms/step - loss: 0.1204 - acc: 0.9600 - val_loss: 0.2610 - val_acc: 0.8880\n",
            "Epoch 22/30\n",
            "2000/2000 [==============================] - 5s 2ms/step - loss: 0.1195 - acc: 0.9595 - val_loss: 0.2564 - val_acc: 0.8900\n",
            "Epoch 23/30\n",
            "2000/2000 [==============================] - 5s 3ms/step - loss: 0.1008 - acc: 0.9660 - val_loss: 0.2575 - val_acc: 0.8900\n",
            "Epoch 24/30\n",
            "2000/2000 [==============================] - 5s 2ms/step - loss: 0.1009 - acc: 0.9700 - val_loss: 0.2587 - val_acc: 0.8920\n",
            "Epoch 25/30\n",
            "2000/2000 [==============================] - 5s 3ms/step - loss: 0.0993 - acc: 0.9685 - val_loss: 0.2614 - val_acc: 0.8910\n",
            "Epoch 26/30\n",
            "2000/2000 [==============================] - 5s 3ms/step - loss: 0.0941 - acc: 0.9700 - val_loss: 0.2601 - val_acc: 0.8900\n",
            "Epoch 27/30\n",
            "2000/2000 [==============================] - 5s 3ms/step - loss: 0.0880 - acc: 0.9760 - val_loss: 0.2618 - val_acc: 0.8900\n",
            "Epoch 28/30\n",
            "2000/2000 [==============================] - 5s 2ms/step - loss: 0.0861 - acc: 0.9715 - val_loss: 0.2627 - val_acc: 0.8870\n",
            "Epoch 29/30\n",
            "2000/2000 [==============================] - 5s 3ms/step - loss: 0.0834 - acc: 0.9750 - val_loss: 0.2600 - val_acc: 0.8890\n",
            "Epoch 30/30\n",
            "2000/2000 [==============================] - 5s 3ms/step - loss: 0.0780 - acc: 0.9765 - val_loss: 0.2644 - val_acc: 0.8920\n"
          ],
          "name": "stdout"
        }
      ]
    },
    {
      "metadata": {
        "id": "BcUsPdKh9Rbd",
        "colab_type": "code",
        "outputId": "6e44dc3f-0e90-4e7b-b201-4db28d73d5ba",
        "colab": {
          "base_uri": "https://localhost:8080/",
          "height": 707
        }
      },
      "cell_type": "code",
      "source": [
        "import matplotlib.pyplot as plt\n",
        "acc = history.history['acc']\n",
        "val_acc = history.history['val_acc']\n",
        "loss = history.history['loss']\n",
        "val_loss = history.history['val_loss']\n",
        "epochs = range(1, len(acc) + 1)\n",
        "plt.plot(epochs, acc, 'bo', label='Training acc')\n",
        "plt.plot(epochs, val_acc, 'b', label='Validation acc')\n",
        "plt.title('Training and validation accuracy')\n",
        "plt.legend()\n",
        "plt.figure()\n",
        "plt.plot(epochs, loss, 'bo', label='Training loss')\n",
        "plt.plot(epochs, val_loss, 'b', label='Validation loss')\n",
        "plt.title('Training and validation loss')\n",
        "plt.legend()\n",
        "plt.show()"
      ],
      "execution_count": 0,
      "outputs": [
        {
          "output_type": "display_data",
          "data": {
            "image/png": "[encoded data removed]",
            "text/plain": [
              "<Figure size 576x396 with 1 Axes>"
            ]
          },
          "metadata": {
            "tags": []
          }
        },
        {
          "output_type": "display_data",
          "data": {
            "image/png": "[encoded data removed]",
            "text/plain": [
              "<Figure size 576x396 with 1 Axes>"
            ]
          },
          "metadata": {
            "tags": []
          }
        }
      ]
    },
    {
      "metadata": {
        "id": "tW2enBoT-wLn",
        "colab_type": "text"
      },
      "cell_type": "markdown",
      "source": [
        "# USE DATA AUGMENTATION"
      ]
    },
    {
      "metadata": {
        "id": "qZK_gb0A94nQ",
        "colab_type": "code",
        "colab": {}
      },
      "cell_type": "code",
      "source": [
        "from keras import models\n",
        "from keras import layers\n",
        "conv_base.trainable = False\n",
        "\n",
        "model = models.Sequential()\n",
        "model.add(conv_base)\n",
        "model.add(layers.Flatten())\n",
        "model.add(layers.Dense(256, activation='relu'))\n",
        "model.add(layers.Dense(1, activation='sigmoid'))"
      ],
      "execution_count": 0,
      "outputs": []
    },
    {
      "metadata": {
        "id": "aqBNN7uV-yXZ",
        "colab_type": "code",
        "outputId": "82a78daa-1114-41b6-89a9-e9fc842722ab",
        "colab": {
          "base_uri": "https://localhost:8080/",
          "height": 272
        }
      },
      "cell_type": "code",
      "source": [
        "model.summary()"
      ],
      "execution_count": 0,
      "outputs": [
        {
          "output_type": "stream",
          "text": [
            "_________________________________________________________________\n",
            "Layer (type)                 Output Shape              Param #   \n",
            "=================================================================\n",
            "vgg16 (Model)                (None, 4, 4, 512)         14714688  \n",
            "_________________________________________________________________\n",
            "flatten_1 (Flatten)          (None, 8192)              0         \n",
            "_________________________________________________________________\n",
            "dense_3 (Dense)              (None, 256)               2097408   \n",
            "_________________________________________________________________\n",
            "dense_4 (Dense)              (None, 1)                 257       \n",
            "=================================================================\n",
            "Total params: 16,812,353\n",
            "Trainable params: 2,097,665\n",
            "Non-trainable params: 14,714,688\n",
            "_________________________________________________________________\n"
          ],
          "name": "stdout"
        }
      ]
    },
    {
      "metadata": {
        "id": "T7PR-a-q-1HN",
        "colab_type": "code",
        "outputId": "5f2a445f-2db9-4223-8994-d8e06f2f40ee",
        "colab": {
          "base_uri": "https://localhost:8080/",
          "height": 1768
        }
      },
      "cell_type": "code",
      "source": [
        "from keras.preprocessing.image import ImageDataGenerator\n",
        "from keras import optimizers\n",
        "train_datagen = ImageDataGenerator(rescale=1./255,\n",
        "  rotation_range=40,\n",
        "  width_shift_range=0.2,\n",
        "  height_shift_range=0.2,\n",
        "  shear_range=0.2,\n",
        "  zoom_range=0.2,\n",
        "  horizontal_flip=True,\n",
        "  fill_mode='nearest')\n",
        "\n",
        "test_datagen = ImageDataGenerator(rescale=1./255)\n",
        "\n",
        "train_generator = train_datagen.flow_from_directory(train_dir,\n",
        "                                                    target_size=(150, 150),\n",
        "                                                    batch_size=20,\n",
        "                                                    class_mode='binary')\n",
        "\n",
        "validation_generator = test_datagen.flow_from_directory(\n",
        "    validation_dir,\n",
        "    target_size=(150, 150),\n",
        "    batch_size=20,\n",
        "    class_mode='binary')\n",
        "\n",
        "model.compile(loss='binary_crossentropy',optimizer=optimizers.RMSprop(lr=2e-5),metrics=['acc'])\n",
        "\n",
        "history = model.fit_generator(train_generator,\n",
        "                              steps_per_epoch=100,\n",
        "                              epochs=30,\n",
        "                              validation_data=validation_generator,\n",
        "                              validation_steps=50)\n",
        "\n",
        "import matplotlib.pyplot as plt\n",
        "acc = history.history['acc']\n",
        "val_acc = history.history['val_acc']\n",
        "loss = history.history['loss']\n",
        "val_loss = history.history['val_loss']\n",
        "epochs = range(1, len(acc) + 1)\n",
        "plt.plot(epochs, acc, 'bo', label='Training acc')\n",
        "plt.plot(epochs, val_acc, 'b', label='Validation acc')\n",
        "plt.title('Training and validation accuracy')\n",
        "plt.legend()\n",
        "plt.figure()\n",
        "plt.plot(epochs, loss, 'bo', label='Training loss')\n",
        "plt.plot(epochs, val_loss, 'b', label='Validation loss')\n",
        "plt.title('Training and validation loss')\n",
        "plt.legend()\n",
        "plt.show()"
      ],
      "execution_count": 0,
      "outputs": [
        {
          "output_type": "stream",
          "text": [
            "Found 2000 images belonging to 2 classes.\n",
            "Found 1000 images belonging to 2 classes.\n",
            "Epoch 1/30\n",
            "100/100 [==============================] - 750s 8s/step - loss: 0.5761 - acc: 0.6965 - val_loss: 0.4296 - val_acc: 0.8260\n",
            "Epoch 2/30\n",
            "100/100 [==============================] - 746s 7s/step - loss: 0.4662 - acc: 0.7870 - val_loss: 0.3638 - val_acc: 0.8370\n",
            "Epoch 3/30\n",
            "100/100 [==============================] - 748s 7s/step - loss: 0.4271 - acc: 0.8095 - val_loss: 0.3286 - val_acc: 0.8510\n",
            "Epoch 4/30\n",
            "100/100 [==============================] - 752s 8s/step - loss: 0.3995 - acc: 0.8220 - val_loss: 0.3210 - val_acc: 0.8600\n",
            "Epoch 5/30\n",
            "100/100 [==============================] - 745s 7s/step - loss: 0.3724 - acc: 0.8385 - val_loss: 0.3005 - val_acc: 0.8680\n",
            "Epoch 6/30\n",
            "100/100 [==============================] - 750s 8s/step - loss: 0.3745 - acc: 0.8245 - val_loss: 0.3030 - val_acc: 0.8650\n",
            "Epoch 7/30\n",
            "100/100 [==============================] - 760s 8s/step - loss: 0.3506 - acc: 0.8500 - val_loss: 0.2826 - val_acc: 0.8800\n",
            "Epoch 8/30\n",
            "100/100 [==============================] - 766s 8s/step - loss: 0.3446 - acc: 0.8465 - val_loss: 0.2752 - val_acc: 0.8860\n",
            "Epoch 9/30\n",
            "100/100 [==============================] - 769s 8s/step - loss: 0.3362 - acc: 0.8530 - val_loss: 0.2718 - val_acc: 0.8820\n",
            "Epoch 10/30\n",
            "100/100 [==============================] - 744s 7s/step - loss: 0.3253 - acc: 0.8665 - val_loss: 0.2805 - val_acc: 0.8830\n",
            "Epoch 11/30\n",
            "100/100 [==============================] - 750s 7s/step - loss: 0.3330 - acc: 0.8545 - val_loss: 0.2905 - val_acc: 0.8710\n",
            "Epoch 12/30\n",
            "100/100 [==============================] - 747s 7s/step - loss: 0.3302 - acc: 0.8550 - val_loss: 0.2673 - val_acc: 0.8900\n",
            "Epoch 13/30\n",
            "100/100 [==============================] - 748s 7s/step - loss: 0.3085 - acc: 0.8595 - val_loss: 0.2737 - val_acc: 0.8840\n",
            "Epoch 14/30\n",
            "100/100 [==============================] - 748s 7s/step - loss: 0.3215 - acc: 0.8625 - val_loss: 0.2629 - val_acc: 0.8890\n",
            "Epoch 15/30\n",
            "100/100 [==============================] - 732s 7s/step - loss: 0.3027 - acc: 0.8655 - val_loss: 0.2743 - val_acc: 0.8900\n",
            "Epoch 16/30\n",
            "100/100 [==============================] - 719s 7s/step - loss: 0.3077 - acc: 0.8595 - val_loss: 0.2587 - val_acc: 0.8830\n",
            "Epoch 17/30\n",
            "100/100 [==============================] - 719s 7s/step - loss: 0.3062 - acc: 0.8700 - val_loss: 0.2791 - val_acc: 0.8880\n",
            "Epoch 18/30\n",
            "100/100 [==============================] - 720s 7s/step - loss: 0.3029 - acc: 0.8725 - val_loss: 0.2519 - val_acc: 0.8860\n",
            "Epoch 19/30\n",
            "100/100 [==============================] - 720s 7s/step - loss: 0.3103 - acc: 0.8720 - val_loss: 0.2497 - val_acc: 0.8880\n",
            "Epoch 20/30\n",
            "100/100 [==============================] - 718s 7s/step - loss: 0.2941 - acc: 0.8720 - val_loss: 0.2520 - val_acc: 0.8900\n",
            "Epoch 21/30\n",
            "100/100 [==============================] - 719s 7s/step - loss: 0.2962 - acc: 0.8680 - val_loss: 0.2462 - val_acc: 0.8890\n",
            "Epoch 22/30\n",
            "100/100 [==============================] - 718s 7s/step - loss: 0.2983 - acc: 0.8665 - val_loss: 0.2450 - val_acc: 0.8910\n",
            "Epoch 23/30\n",
            "100/100 [==============================] - 718s 7s/step - loss: 0.2931 - acc: 0.8725 - val_loss: 0.2466 - val_acc: 0.8930\n",
            "Epoch 24/30\n",
            "100/100 [==============================] - 719s 7s/step - loss: 0.2969 - acc: 0.8725 - val_loss: 0.2644 - val_acc: 0.8920\n",
            "Epoch 25/30\n",
            "100/100 [==============================] - 719s 7s/step - loss: 0.3057 - acc: 0.8700 - val_loss: 0.2412 - val_acc: 0.8960\n",
            "Epoch 26/30\n",
            "100/100 [==============================] - 719s 7s/step - loss: 0.2906 - acc: 0.8775 - val_loss: 0.2488 - val_acc: 0.8880\n",
            "Epoch 27/30\n",
            "100/100 [==============================] - 1335s 13s/step - loss: 0.2862 - acc: 0.8790 - val_loss: 0.2979 - val_acc: 0.8790\n",
            "Epoch 28/30\n",
            "100/100 [==============================] - 1488s 15s/step - loss: 0.2721 - acc: 0.8840 - val_loss: 0.2457 - val_acc: 0.8960\n",
            "Epoch 29/30\n",
            "100/100 [==============================] - 1490s 15s/step - loss: 0.2844 - acc: 0.8780 - val_loss: 0.2562 - val_acc: 0.8990\n",
            "Epoch 30/30\n",
            "100/100 [==============================] - 1974s 20s/step - loss: 0.2906 - acc: 0.8790 - val_loss: 0.2451 - val_acc: 0.9000\n"
          ],
          "name": "stdout"
        },
        {
          "output_type": "display_data",
          "data": {
            "image/png": "[encoded data removed]",
            "text/plain": [
              "<Figure size 576x396 with 1 Axes>"
            ]
          },
          "metadata": {
            "tags": []
          }
        },
        {
          "output_type": "display_data",
          "data": {
            "image/png": "[encoded data removed]",
            "text/plain": [
              "<Figure size 576x396 with 1 Axes>"
            ]
          },
          "metadata": {
            "tags": []
          }
        }
      ]
    },
    {
      "metadata": {
        "id": "tHjpiY36_geG",
        "colab_type": "code",
        "colab": {}
      },
      "cell_type": "code",
      "source": [
        ""
      ],
      "execution_count": 0,
      "outputs": []
    }
  ]
}