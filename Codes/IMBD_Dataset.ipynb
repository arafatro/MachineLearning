{
  "nbformat": 4,
  "nbformat_minor": 0,
  "metadata": {
    "colab": {
      "name": "IMBD Dataset",
      "version": "0.3.2",
      "provenance": [],
      "collapsed_sections": []
    },
    "kernelspec": {
      "name": "python3",
      "display_name": "Python 3"
    }
  },
  "cells": [
    {
      "metadata": {
        "id": "J5iCEy57Jmtk",
        "colab_type": "text"
      },
      "cell_type": "markdown",
      "source": [
        "## load data"
      ]
    },
    {
      "metadata": {
        "id": "cCorlGLPdOQR",
        "colab_type": "code",
        "outputId": "bdceadd5-51ba-4428-b2db-209ae3d2654f",
        "colab": {
          "base_uri": "https://localhost:8080/",
          "height": 34
        }
      },
      "cell_type": "code",
      "source": [
        "from keras.datasets import imdb"
      ],
      "execution_count": 0,
      "outputs": [
        {
          "output_type": "stream",
          "text": [
            "Using TensorFlow backend.\n"
          ],
          "name": "stderr"
        }
      ]
    },
    {
      "metadata": {
        "id": "TUQJth6ufK_y",
        "colab_type": "code",
        "outputId": "39b40f21-8428-4d5a-bd56-4534b8b99318",
        "colab": {
          "base_uri": "https://localhost:8080/",
          "height": 51
        }
      },
      "cell_type": "code",
      "source": [
        "(train_data, train_labels), (test_data, test_labels) = imdb.load_data(\n",
        "num_words=10000)"
      ],
      "execution_count": 0,
      "outputs": [
        {
          "output_type": "stream",
          "text": [
            "Downloading data from https://s3.amazonaws.com/text-datasets/imdb.npz\n",
            "17465344/17464789 [==============================] - 1s 0us/step\n"
          ],
          "name": "stdout"
        }
      ]
    },
    {
      "metadata": {
        "id": "-Ob7yzRIfWax",
        "colab_type": "code",
        "outputId": "808a8459-647a-4dec-fd55-7f5831477534",
        "colab": {
          "base_uri": "https://localhost:8080/",
          "height": 34
        }
      },
      "cell_type": "code",
      "source": [
        "len(train_data[1])"
      ],
      "execution_count": 0,
      "outputs": [
        {
          "output_type": "execute_result",
          "data": {
            "text/plain": [
              "189"
            ]
          },
          "metadata": {
            "tags": []
          },
          "execution_count": 3
        }
      ]
    },
    {
      "metadata": {
        "id": "haQQsFpbfaT4",
        "colab_type": "code",
        "outputId": "f9c6f515-50f1-4a03-9762-791b3d7f8678",
        "colab": {
          "base_uri": "https://localhost:8080/",
          "height": 34
        }
      },
      "cell_type": "code",
      "source": [
        "train_labels\n"
      ],
      "execution_count": 0,
      "outputs": [
        {
          "output_type": "execute_result",
          "data": {
            "text/plain": [
              "array([1, 0, 0, ..., 0, 1, 0])"
            ]
          },
          "metadata": {
            "tags": []
          },
          "execution_count": 4
        }
      ]
    },
    {
      "metadata": {
        "id": "lvKmOYBzfd6v",
        "colab_type": "code",
        "outputId": "62c074c5-5188-4ea8-d93f-6e7d566b452f",
        "colab": {
          "base_uri": "https://localhost:8080/",
          "height": 51
        }
      },
      "cell_type": "code",
      "source": [
        "word_index = imdb.get_word_index()"
      ],
      "execution_count": 0,
      "outputs": [
        {
          "output_type": "stream",
          "text": [
            "Downloading data from https://s3.amazonaws.com/text-datasets/imdb_word_index.json\n",
            "1646592/1641221 [==============================] - 1s 0us/step\n"
          ],
          "name": "stdout"
        }
      ]
    },
    {
      "metadata": {
        "id": "85paZ2SKfpsB",
        "colab_type": "code",
        "colab": {}
      },
      "cell_type": "code",
      "source": [
        "reverse_word_index = dict(\n",
        "[(value, key) for (key, value) in word_index.items()])"
      ],
      "execution_count": 0,
      "outputs": []
    },
    {
      "metadata": {
        "id": "AGmo5jAAfti3",
        "colab_type": "code",
        "colab": {}
      },
      "cell_type": "code",
      "source": [
        "decoded_review = ' '.join(\n",
        "[reverse_word_index.get(i - 3, '?') for i in train_data[3]])"
      ],
      "execution_count": 0,
      "outputs": []
    },
    {
      "metadata": {
        "id": "WXeg7J7jfyAC",
        "colab_type": "code",
        "outputId": "747960bd-8ee1-4550-a9db-99afbd625213",
        "colab": {
          "base_uri": "https://localhost:8080/",
          "height": 71
        }
      },
      "cell_type": "code",
      "source": [
        "print(decoded_review)\n",
        "print(len(train_data[0]))"
      ],
      "execution_count": 0,
      "outputs": [
        {
          "output_type": "stream",
          "text": [
            "? the ? ? at storytelling the traditional sort many years after the event i can still see in my ? eye an elderly lady my friend's mother retelling the battle of ? she makes the characters come alive her passion is that of an eye witness one to the events on the ? heath a mile or so from where she lives br br of course it happened many years before she was born but you wouldn't guess from the way she tells it the same story is told in bars the length and ? of scotland as i discussed it with a friend one night in ? a local cut in to give his version the discussion continued to closing time br br stories passed down like this become part of our being who doesn't remember the stories our parents told us when we were children they become our invisible world and as we grow older they maybe still serve as inspiration or as an emotional ? fact and fiction blend with ? role models warning stories ? magic and mystery br br my name is ? like my grandfather and his grandfather before him our protagonist introduces himself to us and also introduces the story that stretches back through generations it produces stories within stories stories that evoke the ? wonder of scotland its rugged mountains ? in ? the stuff of legend yet ? is ? in reality this is what gives it its special charm it has a rough beauty and authenticity ? with some of the finest ? singing you will ever hear br br ? ? visits his grandfather in hospital shortly before his death he burns with frustration part of him ? to be in the twenty first century to hang out in ? but he is raised on the western ? among a ? speaking community br br yet there is a deeper conflict within him he ? to know the truth the truth behind his ? ancient stories where does fiction end and he wants to know the truth behind the death of his parents br br he is pulled to make a last ? journey to the ? of one of ? most ? mountains can the truth be told or is it all in stories br br in this story about stories we ? bloody battles ? lovers the ? of old and the sometimes more ? ? of accepted truth in doing so we each connect with ? as he lives the story of his own life br br ? the ? ? is probably the most honest ? and genuinely beautiful film of scotland ever made like ? i got slightly annoyed with the ? of hanging stories on more stories but also like ? i ? this once i saw the ? picture ' forget the box office ? of braveheart and its like you might even ? the ? famous ? of the wicker man to see a film that is true to scotland this one is probably unique if you maybe ? on it deeply enough you might even re ? the power of storytelling and the age old question of whether there are some truths that cannot be told but only experienced\n",
            "218\n"
          ],
          "name": "stdout"
        }
      ]
    },
    {
      "metadata": {
        "id": "grxCqHl5hLZK",
        "colab_type": "text"
      },
      "cell_type": "markdown",
      "source": [
        "## We need to vectorize the data"
      ]
    },
    {
      "metadata": {
        "id": "rrugy3h6f7iA",
        "colab_type": "code",
        "colab": {}
      },
      "cell_type": "code",
      "source": [
        "import numpy as np\n",
        "def vectorize_sequences(sequences, dimension=10000):\n",
        "  results = np.zeros((len(sequences), dimension))\n",
        "  for i, sequence in enumerate(sequences):\n",
        "    results[i, sequence] = 1.\n",
        "  return results"
      ],
      "execution_count": 0,
      "outputs": []
    },
    {
      "metadata": {
        "id": "1mY43r2XhIDc",
        "colab_type": "text"
      },
      "cell_type": "markdown",
      "source": [
        "## Vectorize Trainset and Testset"
      ]
    },
    {
      "metadata": {
        "id": "Gfrpjc1YhCUh",
        "colab_type": "code",
        "colab": {}
      },
      "cell_type": "code",
      "source": [
        "x_train = vectorize_sequences(train_data)\n",
        "x_test = vectorize_sequences(test_data)\n",
        "\n",
        "y_train = np.asarray(train_labels).astype('float32')\n",
        "y_test = np.asarray(test_labels).astype('float32')"
      ],
      "execution_count": 0,
      "outputs": []
    },
    {
      "metadata": {
        "id": "87DO9VA-hWUC",
        "colab_type": "text"
      },
      "cell_type": "markdown",
      "source": [
        "## Build your network"
      ]
    },
    {
      "metadata": {
        "id": "pmM8K2AZhGk6",
        "colab_type": "code",
        "outputId": "779f372d-2b91-4188-b9d9-7e64766ea825",
        "colab": {
          "base_uri": "https://localhost:8080/",
          "height": 88
        }
      },
      "cell_type": "code",
      "source": [
        "from keras import models\n",
        "from keras import layers\n",
        "\n",
        "\n",
        "model = models.Sequential()\n",
        "model.add(layers.Dense(16, activation='relu', input_shape=(10000,)))\n",
        "model.add(layers.Dropout(0.5))\n",
        "model.add(layers.Dense(16, activation='relu'))\n",
        "model.add(layers.Dropout(0.5))\n",
        "model.add(layers.Dense(1, activation='sigmoid'))"
      ],
      "execution_count": 0,
      "outputs": [
        {
          "output_type": "stream",
          "text": [
            "WARNING:tensorflow:From /usr/local/lib/python3.6/dist-packages/keras/backend/tensorflow_backend.py:3445: calling dropout (from tensorflow.python.ops.nn_ops) with keep_prob is deprecated and will be removed in a future version.\n",
            "Instructions for updating:\n",
            "Please use `rate` instead of `keep_prob`. Rate should be set to `rate = 1 - keep_prob`.\n"
          ],
          "name": "stdout"
        }
      ]
    },
    {
      "metadata": {
        "id": "zAB3Yn1Mhb4C",
        "colab_type": "code",
        "colab": {}
      },
      "cell_type": "code",
      "source": [
        "x_val = x_train[:10000]\n",
        "partial_x_train = x_train[10000:]\n",
        "y_val = y_train[:10000]\n",
        "partial_y_train = y_train[10000:]"
      ],
      "execution_count": 0,
      "outputs": []
    },
    {
      "metadata": {
        "id": "F5ZmBF35hjR4",
        "colab_type": "code",
        "outputId": "88032b46-2250-41f5-d248-0f63a2a11b51",
        "colab": {
          "base_uri": "https://localhost:8080/",
          "height": 714
        }
      },
      "cell_type": "code",
      "source": [
        "model.compile(optimizer='rmsprop',\n",
        "loss='binary_crossentropy',\n",
        "metrics=['acc'])\n",
        "history = model.fit(partial_x_train,\n",
        "partial_y_train,\n",
        "epochs=20,\n",
        "batch_size=512,\n",
        "validation_data=(x_val, y_val))"
      ],
      "execution_count": 0,
      "outputs": [
        {
          "output_type": "stream",
          "text": [
            "Train on 15000 samples, validate on 10000 samples\n",
            "Epoch 1/20\n",
            "15000/15000 [==============================] - 2s 143us/step - loss: 0.6113 - acc: 0.6654 - val_loss: 0.4959 - val_acc: 0.8071\n",
            "Epoch 2/20\n",
            "15000/15000 [==============================] - 2s 124us/step - loss: 0.4886 - acc: 0.7755 - val_loss: 0.3868 - val_acc: 0.8756\n",
            "Epoch 3/20\n",
            "15000/15000 [==============================] - 2s 119us/step - loss: 0.4065 - acc: 0.8363 - val_loss: 0.3383 - val_acc: 0.8720\n",
            "Epoch 4/20\n",
            "15000/15000 [==============================] - 2s 119us/step - loss: 0.3479 - acc: 0.8656 - val_loss: 0.2954 - val_acc: 0.8892\n",
            "Epoch 5/20\n",
            "15000/15000 [==============================] - 2s 119us/step - loss: 0.3077 - acc: 0.8909 - val_loss: 0.2799 - val_acc: 0.8898\n",
            "Epoch 6/20\n",
            "15000/15000 [==============================] - 2s 119us/step - loss: 0.2702 - acc: 0.9045 - val_loss: 0.2741 - val_acc: 0.8919\n",
            "Epoch 7/20\n",
            "15000/15000 [==============================] - 2s 119us/step - loss: 0.2399 - acc: 0.9204 - val_loss: 0.2743 - val_acc: 0.8900\n",
            "Epoch 8/20\n",
            "15000/15000 [==============================] - 2s 120us/step - loss: 0.2154 - acc: 0.9296 - val_loss: 0.2834 - val_acc: 0.8878\n",
            "Epoch 9/20\n",
            "15000/15000 [==============================] - 2s 119us/step - loss: 0.1908 - acc: 0.9368 - val_loss: 0.2883 - val_acc: 0.8892\n",
            "Epoch 10/20\n",
            "15000/15000 [==============================] - 2s 119us/step - loss: 0.1675 - acc: 0.9455 - val_loss: 0.3135 - val_acc: 0.8868\n",
            "Epoch 11/20\n",
            "15000/15000 [==============================] - 2s 119us/step - loss: 0.1536 - acc: 0.9470 - val_loss: 0.3317 - val_acc: 0.8869\n",
            "Epoch 12/20\n",
            "15000/15000 [==============================] - 2s 120us/step - loss: 0.1428 - acc: 0.9508 - val_loss: 0.3509 - val_acc: 0.8864\n",
            "Epoch 13/20\n",
            "15000/15000 [==============================] - 2s 121us/step - loss: 0.1273 - acc: 0.9585 - val_loss: 0.3683 - val_acc: 0.8886\n",
            "Epoch 14/20\n",
            "15000/15000 [==============================] - 2s 119us/step - loss: 0.1210 - acc: 0.9586 - val_loss: 0.3758 - val_acc: 0.8863\n",
            "Epoch 15/20\n",
            "15000/15000 [==============================] - 2s 119us/step - loss: 0.1129 - acc: 0.9633 - val_loss: 0.4096 - val_acc: 0.8851\n",
            "Epoch 16/20\n",
            "15000/15000 [==============================] - 2s 119us/step - loss: 0.1029 - acc: 0.9640 - val_loss: 0.4189 - val_acc: 0.8868\n",
            "Epoch 17/20\n",
            "15000/15000 [==============================] - 2s 119us/step - loss: 0.1059 - acc: 0.9651 - val_loss: 0.4380 - val_acc: 0.8847\n",
            "Epoch 18/20\n",
            "15000/15000 [==============================] - 2s 119us/step - loss: 0.0894 - acc: 0.9661 - val_loss: 0.4822 - val_acc: 0.8859\n",
            "Epoch 19/20\n",
            "15000/15000 [==============================] - 2s 118us/step - loss: 0.0908 - acc: 0.9671 - val_loss: 0.5035 - val_acc: 0.8848\n",
            "Epoch 20/20\n",
            "15000/15000 [==============================] - 2s 118us/step - loss: 0.0892 - acc: 0.9689 - val_loss: 0.5188 - val_acc: 0.8830\n"
          ],
          "name": "stdout"
        }
      ]
    },
    {
      "metadata": {
        "id": "0EYO9xWAhte9",
        "colab_type": "code",
        "outputId": "14e1e05e-dc14-432c-a2f6-5316f66ecb5a",
        "colab": {
          "base_uri": "https://localhost:8080/",
          "height": 393
        }
      },
      "cell_type": "code",
      "source": [
        "history_dict = history.history\n",
        "print(history_dict.keys())\n",
        "import matplotlib.pyplot as plt\n",
        "history_dict = history.history\n",
        "loss_values = history_dict['loss']\n",
        "val_loss_values = history_dict['val_loss']\n",
        "epochs = range(1, len(loss_values) + 1)\n",
        "plt.plot(epochs, loss_values, 'bo', label='Training loss')\n",
        "plt.plot(epochs, val_loss_values, 'b', label='Validation loss')\n",
        "plt.title('Training and validation loss')\n",
        "plt.xlabel('Epochs')\n",
        "plt.ylabel('Loss')\n",
        "plt.legend()\n",
        "plt.show()"
      ],
      "execution_count": 0,
      "outputs": [
        {
          "output_type": "stream",
          "text": [
            "dict_keys(['val_loss', 'val_acc', 'loss', 'acc'])\n"
          ],
          "name": "stdout"
        },
        {
          "output_type": "display_data",
          "data": {
            "image/png": "[encoded data removed]",
            "text/plain": [
              "<Figure size 576x396 with 1 Axes>"
            ]
          },
          "metadata": {
            "tags": []
          }
        }
      ]
    },
    {
      "metadata": {
        "id": "oLVAvJHciAKg",
        "colab_type": "code",
        "colab": {}
      },
      "cell_type": "code",
      "source": [
        ""
      ],
      "execution_count": 0,
      "outputs": []
    }
  ]
}