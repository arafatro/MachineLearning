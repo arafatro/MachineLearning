{
  "nbformat": 4,
  "nbformat_minor": 0,
  "metadata": {
    "colab": {
      "name": "Simple Neural Network.ipynb",
      "version": "0.3.2",
      "provenance": [],
      "collapsed_sections": []
    },
    "kernelspec": {
      "name": "python3",
      "display_name": "Python 3"
    }
  },
  "cells": [
    {
      "metadata": {
        "id": "iLdSjkIQqIYS",
        "colab_type": "text"
      },
      "cell_type": "markdown",
      "source": [
        "## We want to create a simple ANN \n",
        "lets get the data\n"
      ]
    },
    {
      "metadata": {
        "id": "zTpOyZuWqCyo",
        "colab_type": "code",
        "colab": {}
      },
      "cell_type": "code",
      "source": [
        "import numpy as np\n",
        "X = np.asarray([[0,0],[0,1],[1,0],[1,1]])\n",
        "y = np.asarray([1,0,0,1])\n",
        "y = np.mat(y)\n",
        "y=y.T "
      ],
      "execution_count": 0,
      "outputs": []
    },
    {
      "metadata": {
        "id": "ZhGL-3POqgKd",
        "colab_type": "text"
      },
      "cell_type": "markdown",
      "source": [
        "## Lets visualize it"
      ]
    },
    {
      "metadata": {
        "id": "FpOuth4TqeKp",
        "colab_type": "code",
        "outputId": "250dae16-dfda-41f7-95ac-13e165dda20a",
        "colab": {
          "base_uri": "https://localhost:8080/",
          "height": 364
        }
      },
      "cell_type": "code",
      "source": [
        "import matplotlib\n",
        "import matplotlib.pyplot as plt\n",
        "\n",
        "classA=[]\n",
        "classB=[]\n",
        "i=0\n",
        "for index in y:\n",
        "    if index==1.0:\n",
        "        classA.append(X[i,:])\n",
        "    else:\n",
        "        classB.append(X[i, :])\n",
        "    i+=1\n",
        "a=plt.scatter(np.asarray(classA)[:,0],np.asarray(classA)[:,-1])\n",
        "\n",
        "b=plt.scatter(np.asarray(classB)[:,0],np.asarray(classB)[:,-1])\n",
        "plt.legend((a,b),('class 1','class 0'))"
      ],
      "execution_count": 0,
      "outputs": [
        {
          "output_type": "execute_result",
          "data": {
            "text/plain": [
              "<matplotlib.legend.Legend at 0x7f249e951908>"
            ]
          },
          "metadata": {
            "tags": []
          },
          "execution_count": 31
        },
        {
          "output_type": "display_data",
          "data": {
            "image/png": "[encoded data removed]",
            "text/plain": [
              "<Figure size 576x396 with 1 Axes>"
            ]
          },
          "metadata": {
            "tags": []
          }
        }
      ]
    },
    {
      "metadata": {
        "id": "hJq7vejQrAPo",
        "colab_type": "text"
      },
      "cell_type": "markdown",
      "source": [
        "## Parameters of the ANN"
      ]
    },
    {
      "metadata": {
        "id": "dbf47Yxyqied",
        "colab_type": "code",
        "outputId": "acf82e6a-0357-4824-95af-7ca659b9cbc9",
        "colab": {
          "base_uri": "https://localhost:8080/",
          "height": 137
        }
      },
      "cell_type": "code",
      "source": [
        "\n",
        "def sigmoid(z):\n",
        "  return 1/(1+np.exp(-z))\n",
        "\n",
        "import random\n",
        "neurons_in_hidden_layer=2\n",
        "\n",
        "m,n = X.shape\n",
        "W_h=np.random.rand(neurons_in_hidden_layer,n+1)\n",
        "W_o=np.random.rand(1,neurons_in_hidden_layer+1)\n",
        "\n",
        "#lets feed forward\n",
        "\n",
        "ones = np.ones((X.shape[0], 1))\n",
        "ext_X = np.concatenate((ones, X), axis=1)\n",
        "ext_X = np.mat(ext_X)\n",
        " \n",
        "\n",
        "print(W_h.shape)\n",
        "print(W_o.shape)\n",
        "print(ext_X.shape)\n",
        "print(ext_X)"
      ],
      "execution_count": 0,
      "outputs": [
        {
          "output_type": "stream",
          "text": [
            "(2, 3)\n",
            "(1, 3)\n",
            "(4, 3)\n",
            "[[1. 0. 0.]\n",
            " [1. 0. 1.]\n",
            " [1. 1. 0.]\n",
            " [1. 1. 1.]]\n"
          ],
          "name": "stdout"
        }
      ]
    },
    {
      "metadata": {
        "id": "xFRPH3QqBpZ5",
        "colab_type": "text"
      },
      "cell_type": "markdown",
      "source": [
        "## Lets see the outputs"
      ]
    },
    {
      "metadata": {
        "id": "q2Uj0nsprVm0",
        "colab_type": "code",
        "outputId": "6f203766-7856-4f12-942a-ed4cf55f510c",
        "colab": {
          "base_uri": "https://localhost:8080/",
          "height": 240
        }
      },
      "cell_type": "code",
      "source": [
        "h_o=sigmoid(ext_X*W_h.T)\n",
        "print(h_o)\n",
        "\n",
        "# now pass this output to output layer again\n",
        "ones = np.ones((h_o.shape[0], 1))\n",
        "ext_ho = np.concatenate((ones, h_o), axis=1)\n",
        "print(ext_ho)\n",
        "print(ext_ho.shape)\n",
        "yhat=sigmoid(ext_ho*W_o.T)\n",
        "print(yhat)"
      ],
      "execution_count": 0,
      "outputs": [
        {
          "output_type": "stream",
          "text": [
            "[[0.55226781 0.51502658]\n",
            " [0.60675403 0.62482397]\n",
            " [0.57401432 0.56356235]\n",
            " [0.62763844 0.66942436]]\n",
            "[[1.         0.55226781 0.51502658]\n",
            " [1.         0.60675403 0.62482397]\n",
            " [1.         0.57401432 0.56356235]\n",
            " [1.         0.62763844 0.66942436]]\n",
            "(4, 3)\n",
            "[[0.73036482]\n",
            " [0.73705736]\n",
            " [0.73314037]\n",
            " [0.73964219]]\n"
          ],
          "name": "stdout"
        }
      ]
    },
    {
      "metadata": {
        "id": "tQBHhIlWEwqr",
        "colab_type": "text"
      },
      "cell_type": "markdown",
      "source": [
        "## Lets put this into a function"
      ]
    },
    {
      "metadata": {
        "id": "vLC-c3LOB9re",
        "colab_type": "code",
        "colab": {}
      },
      "cell_type": "code",
      "source": [
        "def feedforward(X,W_h,W_o):\n",
        "  ones = np.ones((X.shape[0], 1))\n",
        "  ext_X = np.concatenate((ones, X), axis=1)\n",
        "  ext_X = np.mat(ext_X)\n",
        "  \n",
        "  h_o=sigmoid(ext_X*W_h.T)\n",
        "  ones = np.ones((h_o.shape[0], 1))\n",
        "  ext_ho = np.concatenate((ones, h_o), axis=1)\n",
        "  yhat=sigmoid(ext_ho*W_o.T)\n",
        "  return yhat"
      ],
      "execution_count": 0,
      "outputs": []
    },
    {
      "metadata": {
        "id": "_NPONdh5FXLc",
        "colab_type": "code",
        "outputId": "0f81ca29-8633-4333-8b28-3b0f6261e400",
        "colab": {
          "base_uri": "https://localhost:8080/",
          "height": 86
        }
      },
      "cell_type": "code",
      "source": [
        "feedforward(X,W_h,W_o)"
      ],
      "execution_count": 0,
      "outputs": [
        {
          "output_type": "execute_result",
          "data": {
            "text/plain": [
              "matrix([[0.73036482],\n",
              "        [0.73705736],\n",
              "        [0.73314037],\n",
              "        [0.73964219]])"
            ]
          },
          "metadata": {
            "tags": []
          },
          "execution_count": 35
        }
      ]
    },
    {
      "metadata": {
        "id": "ynHa5JuAIdSs",
        "colab_type": "text"
      },
      "cell_type": "markdown",
      "source": [
        "## its time to learn!"
      ]
    },
    {
      "metadata": {
        "id": "hClDs1kHFexJ",
        "colab_type": "code",
        "outputId": "04d6ee67-2fc1-4d7e-e8b8-87c494ba0b57",
        "colab": {
          "base_uri": "https://localhost:8080/",
          "height": 137
        }
      },
      "cell_type": "code",
      "source": [
        "def learn_weights(X,y):\n",
        "  \n",
        "  neurons_in_hidden_layer=2\n",
        "  m,n = X.shape\n",
        "  \n",
        "  \n",
        "  W_h=np.random.rand(neurons_in_hidden_layer,n+1)\n",
        "  W_o=np.random.rand(1,neurons_in_hidden_layer+1)\n",
        "  \n",
        "  \n",
        "  ones = np.ones((X.shape[0], 1))\n",
        "  ext_X = np.concatenate((ones, X), axis=1)\n",
        "  ext_X = np.mat(ext_X)\n",
        "  \n",
        "  y=np.mat(y)\n",
        "  y=y\n",
        "  \n",
        "  #learning rate\n",
        "  alpha=0.9\n",
        "  \n",
        "  maxIter=10000\n",
        "  \n",
        "  for i in range(maxIter):\n",
        "    # this is the loop of gradient descent\n",
        "    \n",
        "    # STEP 1: FEED FORWARD AND GET ALL OUTPUTS OF THE NETWORK\n",
        "    h_o=sigmoid(ext_X*W_h.T)\n",
        "    ones = np.ones((h_o.shape[0], 1))\n",
        "    ext_ho = np.concatenate((ones, h_o), axis=1)\n",
        "    yhat=sigmoid(ext_ho*W_o.T)\n",
        "    \n",
        "    \n",
        "    # STEP 2: CALCULATE ERROR\n",
        "    e_o = y-yhat\n",
        "    \n",
        "    # MULTIPLY BY LAST LAYER INPUTS TO GET THE SLOPE\n",
        "    der_o=np.multiply(yhat, 1-yhat)\n",
        "    del_o=np.multiply(der_o,e_o)\n",
        "    \n",
        "    #print(del_o.shape)\n",
        "    #print(ext_ho.shape)\n",
        "    slope_o=del_o.T*ext_ho\n",
        "    #print(slope_o.shape)\n",
        "   \n",
        "    \n",
        "    # we will use slope_o to update the weights in output layer\n",
        "    \n",
        "    # lets calculate dels in the hidden layer\n",
        "    der_h=np.multiply(h_o,1-h_o)\n",
        "    #print(der_h)    \n",
        "    \n",
        "    del_h_int=np.multiply(der_h,del_o)\n",
        "    #print(del_h_int)\n",
        "    #print(W_o[0,1:])\n",
        "    del_h=np.multiply(del_h_int,W_o[0,1:])\n",
        "    #print(del_h)\n",
        "    slope_h=del_h.T*ext_X\n",
        "    #print(slope_h)\n",
        "    #print(W_h.T)\n",
        "    \n",
        "    # now update the weights\n",
        "    W_o = W_o + slope_o*alpha\n",
        "    W_h = W_h + slope_h*alpha\n",
        "    \n",
        "  return [W_o,W_h]\n",
        "\n",
        "output,hidden=learn_weights(X,y)\n",
        "yhat=feedforward(X,hidden,output)\n",
        "print(yhat)\n",
        "print(W_o)\n",
        "print(W_h)\n",
        " \n",
        "  "
      ],
      "execution_count": 0,
      "outputs": [
        {
          "output_type": "stream",
          "text": [
            "[[0.98616497]\n",
            " [0.01184287]\n",
            " [0.0118299 ]\n",
            " [0.98781999]]\n",
            "[[0.70863612 0.42858202 0.09930771]]\n",
            "[[0.20983784 0.08841077 0.22385034]\n",
            " [0.06012441 0.19550804 0.44995022]]\n"
          ],
          "name": "stdout"
        }
      ]
    },
    {
      "metadata": {
        "id": "HoE-iCK3Iyhw",
        "colab_type": "code",
        "colab": {}
      },
      "cell_type": "code",
      "source": [
        "\n"
      ],
      "execution_count": 0,
      "outputs": []
    },
    {
      "metadata": {
        "id": "U-hZIRWWYHV3",
        "colab_type": "code",
        "colab": {}
      },
      "cell_type": "code",
      "source": [
        ""
      ],
      "execution_count": 0,
      "outputs": []
    }
  ]
}