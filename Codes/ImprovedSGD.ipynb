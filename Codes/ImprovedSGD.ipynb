{
  "nbformat": 4,
  "nbformat_minor": 0,
  "metadata": {
    "colab": {
      "name": "ImprovedSGD.ipynb",
      "version": "0.3.2",
      "provenance": [],
      "collapsed_sections": []
    },
    "kernelspec": {
      "name": "python3",
      "display_name": "Python 3"
    }
  },
  "cells": [
    {
      "metadata": {
        "id": "C5vK64jmDeWI",
        "colab_type": "text"
      },
      "cell_type": "markdown",
      "source": [
        "## Improving SGD"
      ]
    },
    {
      "metadata": {
        "id": "HIzVJcPFDaCY",
        "colab_type": "code",
        "colab": {}
      },
      "cell_type": "code",
      "source": [
        "import pandas as pn\n",
        "url ='https://raw.githubusercontent.com/swakkhar/MachineLearning/master/logistic.csv'\n",
        "data = pn.read_csv(url,header=None)\n",
        "\n",
        "import numpy as np\n",
        "data=np.asarray(data)\n",
        "X = np.delete(data, data.shape[1] - 1, axis=1)\n",
        "y = data[:, -1]"
      ],
      "execution_count": 0,
      "outputs": []
    },
    {
      "metadata": {
        "id": "ZFZOgDHBDjE2",
        "colab_type": "code",
        "outputId": "285a6ce9-3286-4488-c2a3-cdf3e98e2238",
        "colab": {
          "base_uri": "https://localhost:8080/",
          "height": 102
        }
      },
      "cell_type": "code",
      "source": [
        "def sigmoid(z):\n",
        "    return 1.0/(1+np.exp(-z))\n",
        "\n",
        "  \n",
        "import copy\n",
        "def learnWeights(X,y,maxIter,alpha):\n",
        "  ones = np.ones((X.shape[0],1))\n",
        "  # Deep copy the parameters\n",
        "  X=copy.deepcopy(X)\n",
        "  y=copy.deepcopy(y)\n",
        "  X=np.concatenate((ones,X),axis=1)\n",
        "  X=np.mat(X)\n",
        "  y=np.mat(y)\n",
        "  w=np.random.rand(X.shape[1],1)\n",
        "  #w = np.ones((X.shape[1], 1))\n",
        "  for i in range(0,maxIter):\n",
        "    # predict y\n",
        "    z=X*w\n",
        "    predy=sigmoid(z)\n",
        "    delY = predy-y.T\n",
        "    delw = X.T * delY\n",
        "    w = w - delw * alpha\n",
        "  return w\n",
        "\n",
        "print(X.shape)\n",
        "print(y.shape)\n",
        "w=learnWeights(X,y,2000,0.001)\n",
        "print(w)"
      ],
      "execution_count": 0,
      "outputs": [
        {
          "output_type": "stream",
          "text": [
            "(100, 2)\n",
            "(100,)\n",
            "[[ 6.93811382]\n",
            " [ 0.6983831 ]\n",
            " [-0.97559507]]\n"
          ],
          "name": "stdout"
        }
      ]
    },
    {
      "metadata": {
        "id": "amrl6ChxDtms",
        "colab_type": "code",
        "outputId": "0075611d-3211-4ebe-b931-4ae044ab37c9",
        "colab": {
          "base_uri": "https://localhost:8080/",
          "height": 102
        }
      },
      "cell_type": "code",
      "source": [
        "import random\n",
        "def ImprovedStocGradDescent(X, y, numIter=150):\n",
        "  X=copy.deepcopy(X)\n",
        "  y=copy.deepcopy(y)\n",
        "  \n",
        "  m,n = X.shape\n",
        "  ones = np.ones((X.shape[0], 1))\n",
        "  X = np.concatenate((ones, X), axis=1)\n",
        "  X = np.mat(X)\n",
        "  y = np.mat(y)\n",
        "  y=y.T\n",
        "  w = np.random.rand(X.shape[1], 1)\n",
        "  \n",
        "  for j in range(numIter):\n",
        "    dataIndex = []\n",
        "    for i in range(m):\n",
        "      dataIndex.append(i)\n",
        "    for i in range(m):\n",
        "      alpha = 4/(1.0+j+i)+0.0001    #apha decreases with iteration, does not go to 0 because of the constant\n",
        "      randIndex = int(random.uniform(0,len(dataIndex))) \n",
        "      \n",
        "      h = sigmoid((X[randIndex])*w)\n",
        "      error = y[randIndex] - h\n",
        "      w = w + alpha * (error * X[randIndex]).T\n",
        "      #print('print',randIndex,len(dataIndex))\n",
        "      del(dataIndex[randIndex])\n",
        "  return w\n",
        "\n",
        "print(X.shape)\n",
        "print(y.shape)\n",
        "w1=ImprovedStocGradDescent(X,y)\n",
        "print(w1)"
      ],
      "execution_count": 0,
      "outputs": [
        {
          "output_type": "stream",
          "text": [
            "(100, 2)\n",
            "(100,)\n",
            "[[15.3365105 ]\n",
            " [ 1.03612662]\n",
            " [-2.16280886]]\n"
          ],
          "name": "stdout"
        }
      ]
    },
    {
      "metadata": {
        "id": "1mduTIH-EN10",
        "colab_type": "code",
        "outputId": "c9d17961-5b39-474f-c609-158716d78074",
        "colab": {
          "base_uri": "https://localhost:8080/",
          "height": 361
        }
      },
      "cell_type": "code",
      "source": [
        "import matplotlib\n",
        "import matplotlib.pyplot as plt\n",
        "\n",
        "classA=[]\n",
        "classB=[]\n",
        "i=0\n",
        "for index in y:\n",
        "    if index==1.0:\n",
        "        classA.append(X[i,:])\n",
        "    else:\n",
        "        classB.append(X[i, :])\n",
        "    i+=1\n",
        "a=plt.scatter(np.asarray(classA)[:,0],np.asarray(classA)[:,-1])\n",
        "\n",
        "b=plt.scatter(np.asarray(classB)[:,0],np.asarray(classB)[:,-1])\n",
        "plt.legend((a,b),('class 1','class 0'),loc='upper left')\n",
        "\n",
        "\n",
        "testx = np.arange(-4.0, 4.0, 0.1)\n",
        "\n",
        "testy = (-w[0]-w[1]*testx)/w[2]\n",
        "plt.plot(testx,testy.T,color=\"r\")\n",
        "\n",
        "testy1 = (-w1[0]-w1[1]*testx)/w1[2]\n",
        "plt.plot(testx,testy1.T,color=\"y\")\n",
        "\n",
        "plt.xlabel(\"feature 1\")\n",
        "plt.ylabel(\"feature 2\")\n",
        "plt.show()"
      ],
      "execution_count": 0,
      "outputs": [
        {
          "output_type": "display_data",
          "data": {
            "image/png": "[encoded data removed]",
            "text/plain": [
              "<Figure size 576x396 with 1 Axes>"
            ]
          },
          "metadata": {
            "tags": []
          }
        }
      ]
    },
    {
      "metadata": {
        "id": "mw2i5fsdE_TD",
        "colab_type": "code",
        "colab": {}
      },
      "cell_type": "code",
      "source": [
        ""
      ],
      "execution_count": 0,
      "outputs": []
    }
  ]
}